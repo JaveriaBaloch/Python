{
 "cells": [
  {
   "cell_type": "code",
   "execution_count": 5,
   "metadata": {},
   "outputs": [
    {
     "name": "stdout",
     "output_type": "stream",
     "text": [
      "Hi Python 101\n"
     ]
    }
   ],
   "source": [
    "# lecture 1\n",
    "# Topic: variables\n",
    "course = \"Python 101\"\n",
    "print(\"Hi\",course)"
   ]
  },
  {
   "cell_type": "code",
   "execution_count": 11,
   "metadata": {},
   "outputs": [
    {
     "name": "stdout",
     "output_type": "stream",
     "text": [
      "string is a  <class 'str'> having a value of Any name or sentence\n",
      "integer is a  <class 'int'> having a value of 78\n",
      "floats is a  <class 'float'> having a value of 9.777\n",
      "array is a  <class 'list'> having a value of ['item 1', 'item 2', 'item 3']\n",
      "tuple is a  <class 'tuple'> having a value of ('item 1', 'item 2', 'item 3')\n",
      "sets is a  <class 'set'> having a value of {'item 2', 'item 3', 'item 1'}\n",
      "dictionary is a  <class 'dict'> having a value of {'name': 'Javeria', 'age': 21, 'occupation': 'Web Developer'}\n",
      "boolean is a  <class 'bool'> having a value of True\n",
      "none is a  <class 'NoneType'> having a value of None\n"
     ]
    }
   ],
   "source": [
    "# lecture 2\n",
    "# Topic : DataType\n",
    "\n",
    "# Any name or sentence is string as it is containing a array of characteristics\n",
    "string = \"Any name or sentence\" \n",
    "\n",
    "# Any number\n",
    "integer = 78\n",
    "\n",
    "# any number with decimals\n",
    "floats = 9.777\n",
    "\n",
    "# arrays are lists\n",
    "# arrays are strict to their order\n",
    "array = [\"item 1\",\"item 2\", \"item 3\"]\n",
    "\n",
    "# tuples array but remain constant after declaration,which means you cn't change the items after declaration.\n",
    "tuples = (\"item 1\",\"item 2\", \"item 3\")\n",
    "\n",
    "# sets are not stricted to their order\n",
    "sets = {\"item 1\",\"item 2\", \"item 3\"}\n",
    "\n",
    "# Dictionary is a object means it have key-value pairs, just like javascript objects\n",
    "dictionary = {\n",
    "    # \"key\" : \"value\"\n",
    "    \"name\": \"Javeria\",\n",
    "    \"age\": 21,\n",
    "    \"occupation\": \"Web Developer\"\n",
    "}\n",
    "\n",
    "# boolean are the variable that works like switchs, they can be either true or false but don not contain any other information like other datatypes\n",
    "\n",
    "boolean = True # OR False\n",
    "\n",
    "# none type is a datatype used to define none value of a variable\n",
    "\n",
    "none = None\n",
    "\n",
    "# print all datatypes:\n",
    "print(\"string is a \",type(string),\"having a value of\", string)\n",
    "print(\"integer is a \",type(integer),\"having a value of\", integer)\n",
    "print(\"floats is a \",type(floats),\"having a value of\", floats)\n",
    "print(\"array is a \",type(array),\"having a value of\", array)\n",
    "print(\"tuple is a \",type(tuples),\"having a value of\", tuples)\n",
    "print(\"sets is a \",type(sets),\"having a value of\", sets)\n",
    "print(\"dictionary is a \",type(dictionary),\"having a value of\", dictionary)\n",
    "print(\"boolean is a \",type(boolean),\"having a value of\", boolean)\n",
    "print(\"none is a \",type(none),\"having a value of\", none)"
   ]
  },
  {
   "cell_type": "code",
   "execution_count": 17,
   "metadata": {},
   "outputs": [
    {
     "name": "stdout",
     "output_type": "stream",
     "text": [
      "5.665.665.665.665.665.665.665.665.66\n",
      "50.94\n",
      "1000000000\n"
     ]
    }
   ],
   "source": [
    "# lecture 3\n",
    "# Topic: Numerical Datatype\n",
    "\n",
    "# wrong example:\n",
    "    # as price in quotation marks therefore it is consider as string\n",
    "    # as price in string its written nine times in results because it is multiplied by nine.\n",
    "item = 9\n",
    "price = \"5.66\"\n",
    "total = item * price # multiplication\n",
    "print(total)\n",
    "\n",
    "# right example:\n",
    "# as price is a number, so it is giving the correct result\n",
    "item = 9\n",
    "price = 5.66\n",
    "total = item * price # multiplication\n",
    "print(total)\n",
    "\n",
    "# specail way to write big numbers in python in readable form\n",
    "guess_The_Number = 1_000_000_000\n",
    "\n",
    "# result is 1000000000 because python doesn't care about underscore or \"_\" symbol, we only used underscores to make number readable for us.\n",
    "print(guess_The_Number)"
   ]
  },
  {
   "cell_type": "code",
   "execution_count": 19,
   "metadata": {},
   "outputs": [
    {
     "name": "stdout",
     "output_type": "stream",
     "text": [
      "A senTenCes\n",
      "Line 1\n",
      "-----empty-----\n",
      "Line 3\n",
      "original:  A senTenCes\n",
      "lowerCase:  a sentences\n",
      "upperCase:  A SENTENCES\n",
      "Capitilized:  A sentences\n",
      "Toggled:  a SENtENcES\n"
     ]
    }
   ],
   "source": [
    "# lecture 4\n",
    "# Topic: String\n",
    "\n",
    "# A sentences\n",
    "sentence = \"A senTenCes\"\n",
    "print(sentence)\n",
    "# a multi-line string\n",
    "multi_line = \"\"\"Line 1\n",
    "-----empty-----\n",
    "Line 3\"\"\"\n",
    "print(multi_line)\n",
    "\n",
    "# sentence Cases\n",
    "lowerCase = sentence.lower()\n",
    "upperCase = sentence.upper()\n",
    "CapitalizedCase = sentence.capitalize()\n",
    "toggleCase = sentence.swapcase()\n",
    "\n",
    "print(\"original: \", sentence)\n",
    "print(\"lowerCase: \",lowerCase)\n",
    "print(\"upperCase: \",upperCase)\n",
    "print(\"Capitilized: \",CapitalizedCase)\n",
    "print(\"Toggled: \", toggleCase)"
   ]
  },
  {
   "cell_type": "code",
   "execution_count": 27,
   "metadata": {},
   "outputs": [
    {
     "name": "stdout",
     "output_type": "stream",
     "text": [
      "item is: 1\n",
      "item datatype is: <class 'int'>\n",
      "item is: 6.78\n",
      "item datatype is: <class 'float'>\n",
      "item is: [34, 67.2]\n",
      "item datatype is: <class 'list'>\n",
      "item is: Javeria\n",
      "item datatype is: <class 'str'>\n"
     ]
    }
   ],
   "source": [
    "# lecture 5\n",
    "# Topic: List\n",
    "# name of list = [item1,item2,item3,.....,itemn]\n",
    "lst = [\"String\",1,6.78,[34,67.2],\"Javeria\"]\n",
    "\n",
    "# adding items in list using append\n",
    "lst.append(\"Kalob\")\n",
    "\n",
    "# removing a item by using its index \n",
    "# remember that in list or array index start from 0\n",
    "\n",
    "lst.pop(3)\n",
    "\n",
    "# removing specific item\n",
    "lst.remove(\"String\")\n",
    "for item in lst:\n",
    "    print(\"item is:\",item)\n",
    "    print(\"item datatype is:\",type(item))\n"
   ]
  },
  {
   "cell_type": "code",
   "execution_count": 36,
   "metadata": {},
   "outputs": [
    {
     "name": "stdout",
     "output_type": "stream",
     "text": [
      "Javeria\n",
      "\n",
      " Printing object Before adding a key value pair: \n",
      " {'name': 'Javeria', 'age': 21, 'occupation': 'Web Developer'}\n",
      "\n",
      " printing object after adding a key value pair: \n",
      " {'name': 'Javeria', 'age': 21, 'occupation': 'Web Developer', 'university': 'XU Exponentail'}\n",
      "\n",
      " adding the dictionary inside the dictionary: \n",
      " {'name': 'Javeria', 'age': 21, 'occupation': 'Web Developer', 'university': 'XU Exponentail', 'contact': {'phone': '000032948', 'email': 'j.baloch@gmail.com'}}\n",
      "\n",
      " printing after deleting the age: \n",
      " {'name': 'Javeria', 'occupation': 'Web Developer', 'university': 'XU Exponentail', 'contact': {'phone': '000032948', 'email': 'j.baloch@gmail.com'}}\n"
     ]
    }
   ],
   "source": [
    "# lecture 6\n",
    "# Topic: Dictionary\n",
    "\n",
    "# Dictionary is a object means it have key-value pairs, just like javascript objects\n",
    "person = {\n",
    "    # \"key\" : \"value\"\n",
    "    \"name\": \"Javeria\",\n",
    "    \"age\": 21,\n",
    "    \"occupation\": \"Web Developer\"\n",
    "}\n",
    "print(person['name'])\n",
    "\n",
    "# printing object Before adding a key value pair \n",
    "print(\"\\n\",\"Printing object Before adding a key value pair:\",\"\\n\",person)\n",
    "\n",
    "# add a key value pair in dictionary\n",
    "person['university'] = 'XU Exponentail'\n",
    "\n",
    "# printing object after adding a key value pair \n",
    "print(\"\\n\",\"printing object after adding a key value pair:\",\"\\n\",person)\n",
    "\n",
    "# you can have dictionaries inside dictionary\n",
    "contact = {\n",
    "   \"phone\": \"000032948\",\n",
    "   \"email\": \"j.baloch@gmail.com\"\n",
    "}\n",
    "\n",
    "# adding the dictionary inside the dictionary\n",
    "person['contact'] = contact\n",
    "print(\"\\n\",\"adding the dictionary inside the dictionary:\",\"\\n\",person)\n",
    "\n",
    "# deleting an key-value pair\n",
    "# use key to remove\n",
    "del person['age']\n",
    "print(\"\\n\",\"printing after deleting the age:\",\"\\n\",person)"
   ]
  },
  {
   "cell_type": "code",
   "execution_count": 17,
   "metadata": {},
   "outputs": [
    {
     "name": "stdout",
     "output_type": "stream",
     "text": [
      "('Pizza', 'Biryani', 'Quorma', 'Salat')\n",
      "Pizza\n",
      "Biryani\n",
      "Quorma\n",
      "Salat\n"
     ]
    }
   ],
   "source": [
    "# lecture 8\n",
    "# Topic: Tuples\n",
    "\n",
    "\n",
    "# tuple is not changeable \n",
    "\n",
    "food = (\"Pizza\",\"Biryani\",\"Quorma\",\"Salat\")\n",
    "# print food\n",
    "print(food)\n",
    "\n",
    "# looping through tuple\n",
    "for item in food:\n",
    "    print(item)"
   ]
  },
  {
   "cell_type": "code",
   "execution_count": 29,
   "metadata": {},
   "outputs": [
    {
     "name": "stdout",
     "output_type": "stream",
     "text": [
      "{1, 6.7, 8, 'Javeria', 'String'}\n",
      "\n",
      " Before adding item is set:\n",
      " {1, 6.7, 8, 'Javeria', 'String'}\n",
      "\n",
      " After adding item is set:\n",
      " {1, 6.7, 8, 'Kalob', 'Javeria', 'String'}\n",
      "\n",
      " After removing item is set:\n",
      " {1, 6.7, 8, 'Kalob', 'Javeria'}\n"
     ]
    }
   ],
   "source": [
    "# lecture 9\n",
    "# Topic: Sets\n",
    "\n",
    "\n",
    "sets = {\"String\",1,6.7,8,\"Javeria\"}\n",
    "print(sets)\n",
    "\n",
    "# set don't contain repeating items\n",
    "sets = {\"String\",1,6.7,8,\"Javeria\",\"Javeria\",\"Javeria\",\"Javeria\"}\n",
    "print(\"\\n\",\"Before adding item is set:\\n\",sets)\n",
    "\n",
    "# adding items in set\n",
    "sets.add(\"Kalob\")\n",
    "print(\"\\n\",\"After adding item is set:\\n\",sets)\n",
    "\n",
    "\n",
    "# removing items in set\n",
    "sets.remove(\"String\")\n",
    "print(\"\\n\",\"After removing item is set:\\n\",sets)"
   ]
  },
  {
   "cell_type": "code",
   "execution_count": 6,
   "metadata": {},
   "outputs": [],
   "source": [
    "# lecture 10\n",
    "# Topic: conditional\n",
    "\n",
    "\n",
    "course = \"Python 101\"\n",
    "# if we don't have a code write 'pass' to skip the condition \n",
    "# without 'pass' keyword there can be an indentation error\n",
    "if course == \"Hi\":\n",
    "    pass\n",
    "elif course == \"bad\":\n",
    "    pass\n",
    "else:\n",
    "    pass"
   ]
  },
  {
   "cell_type": "code",
   "execution_count": 48,
   "metadata": {},
   "outputs": [
    {
     "name": "stdout",
     "output_type": "stream",
     "text": [
      "one\n",
      "\n",
      "ranging:\n",
      " ['one', 'two', 'three']\n",
      "\n",
      "last item in array is : five\n",
      "\n",
      "last three items are : ['three', 'four', 'five']\n"
     ]
    }
   ],
   "source": [
    "# lecture 11\n",
    "# Topic: Indexing and slicing\n",
    "\n",
    "lst = [\"one\",\"two\",\"three\",\"four\",\"five\"]\n",
    "\n",
    "# finding indexs\n",
    "# first value is on index 0 as list indexs starts form zero\n",
    "print(lst[0])\n",
    "\n",
    "# ranging the list\n",
    "ranging = lst[0:3]\n",
    "print(\"\\nranging:\\n\",ranging)\n",
    "\n",
    "\n",
    "# using negative indexing\n",
    "# -1 for is used for last item and -2 for 2nd last item in list\n",
    "# use can use negative indexing to access the list items in reverse order\n",
    "last = lst[-1]\n",
    "print(\"\\nlast item in array is :\",last)\n",
    "\n",
    "# accessing multiple last items after a particular index\n",
    "lastThreeItems = lst[-3::]\n",
    "print(\"\\nlast three items are :\",lastThreeItems)"
   ]
  },
  {
   "cell_type": "code",
   "execution_count": 2,
   "metadata": {},
   "outputs": [
    {
     "name": "stdout",
     "output_type": "stream",
     "text": [
      "Hello Javeria\n"
     ]
    }
   ],
   "source": [
    "# lecture 12\n",
    "# Topic: Taking user Input\n",
    "\n",
    "name = input(\"What is your name?\")\n",
    "print(\"Hello \"+name)"
   ]
  },
  {
   "cell_type": "code",
   "execution_count": 9,
   "metadata": {},
   "outputs": [
    {
     "name": "stdout",
     "output_type": "stream",
     "text": [
      "You can vote!\n",
      "\n",
      "fruit as list: ['mango', 'orange', 'apple', 'banana', 'lemon', 'orange', 'apple', 'banana']\n",
      "\n",
      "fruit as set: {'lemon', 'banana', 'mango', 'apple', 'orange'}\n",
      "\n",
      "fruit as tuple: ('mango', 'orange', 'apple', 'banana', 'lemon', 'orange', 'apple', 'banana')\n"
     ]
    }
   ],
   "source": [
    "# lecture 13\n",
    "# Topic: TypeCasting\n",
    "\n",
    "#Definition: change one datatype to other\n",
    "# e.g string to number\n",
    "age = input(\"What is your age?\")\n",
    "age = int(age)\n",
    "if age>17:\n",
    "    print(\"You can vote!\")\n",
    "else:\n",
    "     print(\"You can not vote!\")\n",
    "\n",
    "# type casting for list and set\n",
    "fruits = [\"mango\",\"orange\",\"apple\",\"banana\",\"lemon\",\"orange\",\"apple\",\"banana\"]\n",
    "print(\"\\nfruit as list:\", fruits)\n",
    "\n",
    "fruitsSet = set(fruits)\n",
    "print(\"\\nfruit as set:\", fruitsSet)\n",
    "\n",
    "fruitTuple = tuple(fruits)\n",
    "print(\"\\nfruit as tuple:\", fruitTuple)\n"
   ]
  },
  {
   "cell_type": "code",
   "execution_count": 13,
   "metadata": {},
   "outputs": [
    {
     "name": "stdout",
     "output_type": "stream",
     "text": [
      "Hello Javeria, welcome to Python world!\n",
      "Hello Javeria, welcome to Python world!\n",
      "Hello Javeria, welcome to Python world!\n"
     ]
    }
   ],
   "source": [
    "# lecture 14\n",
    "# Topic: Formatting\n",
    "\n",
    "# method 1\n",
    "name = \"Javeria\"\n",
    "welcome_message = \"Hello {}, welcome to Python world!\".format(name)\n",
    "print(welcome_message)\n",
    "\n",
    "# method 2\n",
    "name = \"Javeria\"\n",
    "welcome_message = f\"Hello {name}, welcome to Python world!\"\n",
    "print(welcome_message)\n",
    "\n",
    "# method 3\n",
    "name = \"Javeria\"\n",
    "welcome_message = \"Hello %s, welcome to Python world!\" % name\n",
    "print(welcome_message)"
   ]
  },
  {
   "cell_type": "code",
   "execution_count": 16,
   "metadata": {},
   "outputs": [
    {
     "name": "stdout",
     "output_type": "stream",
     "text": [
      "You can vote!\n"
     ]
    }
   ],
   "source": [
    "# lecture 14\n",
    "# Topic: Comparision Operator\n",
    "\n",
    "# List of Operators\n",
    "    # == equal to\n",
    "    # != not equal to\n",
    "    # < less than\n",
    "    # > greater than\n",
    "    # <= less than or equal to\n",
    "    # >= greater than or equal to\n",
    "\n",
    "# Example:\n",
    "age = input(\"What is your age?\")\n",
    "age = int(age)\n",
    "if age>=18:\n",
    "    print(\"You can vote!\")\n",
    "else:\n",
    "     print(\"You can not vote!\")\n",
    "\n",
    "# replace >= to any other operator and try for clearing your concepts"
   ]
  },
  {
   "cell_type": "code",
   "execution_count": 25,
   "metadata": {},
   "outputs": [
    {
     "name": "stdout",
     "output_type": "stream",
     "text": [
      "you are not a citzen!\n"
     ]
    }
   ],
   "source": [
    "# lecture 15\n",
    "# Topic: Multiple Comparision Operator\n",
    "\n",
    "age = input(\"What is your age?\")\n",
    "name = input(\"What is your name?\")\n",
    "citizen = True\n",
    "# \"you can vote\" will only run if age is above 17 and name is not empty\n",
    "if int(age)>=18 and name!=\"\":\n",
    "    print(\"You can vote!\")\n",
    "# elif will only run if name is empty or Citizen is false\n",
    "elif citizen==False or name==\"\":\n",
    "     print(\"please provide a the data!\")\n",
    "else:\n",
    "     print(\"You can not vote!\")\n",
    "\n"
   ]
  },
  {
   "cell_type": "code",
   "execution_count": 37,
   "metadata": {},
   "outputs": [
    {
     "name": "stdout",
     "output_type": "stream",
     "text": [
      "\n",
      "You have ordered Pizza\n"
     ]
    }
   ],
   "source": [
    "# lecture 15\n",
    "# Topic: For Loops\n",
    "fav_food = {1:\"Pizza\",2:\"Biyani\",3:\"Quorma\",4:\"Curry\"}\n",
    "# for in loop\n",
    "menu = \"we are having following items available:\\n\"\n",
    "for key,value in fav_food.items():\n",
    "    menu += f\"{key} .\\t{value}\\n\"\n",
    "selectedItem = input(menu+\"\\nWhat you will like to take\")\n",
    "\n",
    "for key,value in fav_food.items():\n",
    "    if value.lower() == selectedItem.lower():\n",
    "        print(f\"\\nYou have ordered {value}\")"
   ]
  },
  {
   "cell_type": "code",
   "execution_count": 39,
   "metadata": {},
   "outputs": [
    {
     "name": "stdout",
     "output_type": "stream",
     "text": [
      "12 is not a correct number\n",
      "45 is not a correct number\n",
      "23 is not a correct number\n",
      "567 is the correct number\n"
     ]
    }
   ],
   "source": [
    "# lecture 15\n",
    "# Topic: While Loops\n",
    "\n",
    "num = int(input(\"Enter a number\"))\n",
    "\n",
    "while num <100:\n",
    "    print(num,\"is not a correct number\")\n",
    "    num = int(input(\"Enter a number\"))\n",
    "\n",
    "print(num,\"is the correct number\")"
   ]
  },
  {
   "cell_type": "code",
   "execution_count": 43,
   "metadata": {},
   "outputs": [
    {
     "name": "stdout",
     "output_type": "stream",
     "text": [
      "your name is Kalob\n"
     ]
    }
   ],
   "source": [
    "# lecture 16\n",
    "# Topic: Functions\n",
    "\n",
    "def userInfo(name):\n",
    "    return f\"your name is {name.capitalize()}\"\n",
    "\n",
    "print(userInfo(input(\"What is your name?\")))"
   ]
  },
  {
   "cell_type": "code",
   "execution_count": 78,
   "metadata": {},
   "outputs": [
    {
     "name": "stdout",
     "output_type": "stream",
     "text": [
      "Round:\t 1\n",
      "computer won this round\n",
      "Round:\t 2\n",
      "draw\n",
      "Round:\t 3\n",
      "I won this round\n",
      "\n",
      "______________---------Game Results---------______________\n",
      "you won 1 and computer won 1 round,\n",
      "draws: 1\n",
      "________________________________________________________________________________\n",
      "therefore Game is draw\n"
     ]
    }
   ],
   "source": [
    "# Final Project\n",
    "import random\n",
    "rounds = 1\n",
    "Wons = 0\n",
    "loses = 0\n",
    "draws =0\n",
    "def computer_choice():\n",
    "    choose = random.choice([\"rock\",'paper',\"scissor\"])\n",
    "    return choose\n",
    "while rounds<=3:\n",
    "    mySelection = input()\n",
    "    print(\"Round:\\t\",rounds)\n",
    "    if computer_choice() == mySelection:\n",
    "        draws += 1\n",
    "        print(\"draw\")\n",
    "    elif (computer_choice() == \"paper\" and mySelection == \"rock\") or (computer_choice() == \"rock\" and mySelection == \"scissor\") or (computer_choice() == \"scissor\" and mySelection == \"paper\"):\n",
    "        print(\"computer won this round\")\n",
    "        loses += 1\n",
    "    elif (mySelection == \"paper\" and computer_choice() == \"rock\") or (mySelection == \"rock\" and computer_choice() == \"scissor\") or (mySelection == \"scissor\" and computer_choice() == \"paper\"):\n",
    "        print(\"I won this round\")\n",
    "        Wons += 1\n",
    "    rounds = rounds + 1\n",
    "decision = \"draw\"\n",
    "if loses >Wons:\n",
    "    decision = \"Computer Won the game\" \n",
    "elif loses <Wons:\n",
    "    decision = \"You Won the game\" \n",
    "else:\n",
    "    decision = \"Game is draw\" \n",
    "\n",
    "resultStatement = f\"\"\"______________---------Game Results---------______________\n",
    "you won {Wons} and computer won {loses} round,\n",
    "draws: {draws}\n",
    "________________________________________________________________________________\n",
    "therefore {decision}\"\"\"\n",
    "\n",
    "print(\"\\n\"+ resultStatement)"
   ]
  }
 ],
 "metadata": {
  "kernelspec": {
   "display_name": "Python 3.8.9 64-bit",
   "language": "python",
   "name": "python3"
  },
  "language_info": {
   "codemirror_mode": {
    "name": "ipython",
    "version": 3
   },
   "file_extension": ".py",
   "mimetype": "text/x-python",
   "name": "python",
   "nbconvert_exporter": "python",
   "pygments_lexer": "ipython3",
   "version": "3.8.9"
  },
  "orig_nbformat": 4,
  "vscode": {
   "interpreter": {
    "hash": "31f2aee4e71d21fbe5cf8b01ff0e069b9275f58929596ceb00d14d90e3e16cd6"
   }
  }
 },
 "nbformat": 4,
 "nbformat_minor": 2
}
