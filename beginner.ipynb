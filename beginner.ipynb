{
 "cells": [
  {
   "cell_type": "code",
   "execution_count": 5,
   "metadata": {},
   "outputs": [
    {
     "name": "stdout",
     "output_type": "stream",
     "text": [
      "Hi Python 101\n"
     ]
    }
   ],
   "source": [
    "# lecture 1\n",
    "# Topic: variables\n",
    "course = \"Python 101\"\n",
    "print(\"Hi\",course)"
   ]
  },
  {
   "cell_type": "code",
   "execution_count": 11,
   "metadata": {},
   "outputs": [
    {
     "name": "stdout",
     "output_type": "stream",
     "text": [
      "string is a  <class 'str'> having a value of Any name or sentence\n",
      "integer is a  <class 'int'> having a value of 78\n",
      "floats is a  <class 'float'> having a value of 9.777\n",
      "array is a  <class 'list'> having a value of ['item 1', 'item 2', 'item 3']\n",
      "tuple is a  <class 'tuple'> having a value of ('item 1', 'item 2', 'item 3')\n",
      "sets is a  <class 'set'> having a value of {'item 2', 'item 3', 'item 1'}\n",
      "dictionary is a  <class 'dict'> having a value of {'name': 'Javeria', 'age': 21, 'occupation': 'Web Developer'}\n",
      "boolean is a  <class 'bool'> having a value of True\n",
      "none is a  <class 'NoneType'> having a value of None\n"
     ]
    }
   ],
   "source": [
    "# lecture 2\n",
    "# Topic : DataType\n",
    "\n",
    "# Any name or sentence is string as it is containing a array of characteristics\n",
    "string = \"Any name or sentence\" \n",
    "\n",
    "# Any number\n",
    "integer = 78\n",
    "\n",
    "# any number with decimals\n",
    "floats = 9.777\n",
    "\n",
    "# arrays are lists\n",
    "# arrays are strict to their order\n",
    "array = [\"item 1\",\"item 2\", \"item 3\"]\n",
    "\n",
    "# tuples array but remain constant after declaration,which means you cn't change the items after declaration.\n",
    "tuples = (\"item 1\",\"item 2\", \"item 3\")\n",
    "\n",
    "# sets are not stricted to their order\n",
    "sets = {\"item 1\",\"item 2\", \"item 3\"}\n",
    "\n",
    "# Dictionary is a object means it have key-value pairs, just like javascript objects\n",
    "dictionary = {\n",
    "    # \"key\" : \"value\"\n",
    "    \"name\": \"Javeria\",\n",
    "    \"age\": 21,\n",
    "    \"occupation\": \"Web Developer\"\n",
    "}\n",
    "\n",
    "# boolean are the variable that works like switchs, they can be either true or false but don not contain any other information like other datatypes\n",
    "\n",
    "boolean = True # OR False\n",
    "\n",
    "# none type is a datatype used to define none value of a variable\n",
    "\n",
    "none = None\n",
    "\n",
    "# print all datatypes:\n",
    "print(\"string is a \",type(string),\"having a value of\", string)\n",
    "print(\"integer is a \",type(integer),\"having a value of\", integer)\n",
    "print(\"floats is a \",type(floats),\"having a value of\", floats)\n",
    "print(\"array is a \",type(array),\"having a value of\", array)\n",
    "print(\"tuple is a \",type(tuples),\"having a value of\", tuples)\n",
    "print(\"sets is a \",type(sets),\"having a value of\", sets)\n",
    "print(\"dictionary is a \",type(dictionary),\"having a value of\", dictionary)\n",
    "print(\"boolean is a \",type(boolean),\"having a value of\", boolean)\n",
    "print(\"none is a \",type(none),\"having a value of\", none)"
   ]
  },
  {
   "cell_type": "code",
   "execution_count": 17,
   "metadata": {},
   "outputs": [
    {
     "name": "stdout",
     "output_type": "stream",
     "text": [
      "5.665.665.665.665.665.665.665.665.66\n",
      "50.94\n",
      "1000000000\n"
     ]
    }
   ],
   "source": [
    "# lecture 3\n",
    "# Topic: Numerical Datatype\n",
    "\n",
    "# wrong example:\n",
    "    # as price in quotation marks therefore it is consider as string\n",
    "    # as price in string its written nine times in results because it is multiplied by nine.\n",
    "item = 9\n",
    "price = \"5.66\"\n",
    "total = item * price # multiplication\n",
    "print(total)\n",
    "\n",
    "# right example:\n",
    "# as price is a number, so it is giving the correct result\n",
    "item = 9\n",
    "price = 5.66\n",
    "total = item * price # multiplication\n",
    "print(total)\n",
    "\n",
    "# specail way to write big numbers in python in readable form\n",
    "guess_The_Number = 1_000_000_000\n",
    "\n",
    "# result is 1000000000 because python doesn't care about underscore or \"_\" symbol, we only used underscores to make number readable for us.\n",
    "print(guess_The_Number)"
   ]
  },
  {
   "cell_type": "code",
   "execution_count": 19,
   "metadata": {},
   "outputs": [
    {
     "name": "stdout",
     "output_type": "stream",
     "text": [
      "A senTenCes\n",
      "Line 1\n",
      "-----empty-----\n",
      "Line 3\n",
      "original:  A senTenCes\n",
      "lowerCase:  a sentences\n",
      "upperCase:  A SENTENCES\n",
      "Capitilized:  A sentences\n",
      "Toggled:  a SENtENcES\n"
     ]
    }
   ],
   "source": [
    "# lecture 4\n",
    "# Topic: String\n",
    "\n",
    "# A sentences\n",
    "sentence = \"A senTenCes\"\n",
    "print(sentence)\n",
    "# a multi-line string\n",
    "multi_line = \"\"\"Line 1\n",
    "-----empty-----\n",
    "Line 3\"\"\"\n",
    "print(multi_line)\n",
    "\n",
    "# sentence Cases\n",
    "lowerCase = sentence.lower()\n",
    "upperCase = sentence.upper()\n",
    "CapitalizedCase = sentence.capitalize()\n",
    "toggleCase = sentence.swapcase()\n",
    "\n",
    "print(\"original: \", sentence)\n",
    "print(\"lowerCase: \",lowerCase)\n",
    "print(\"upperCase: \",upperCase)\n",
    "print(\"Capitilized: \",CapitalizedCase)\n",
    "print(\"Toggled: \", toggleCase)"
   ]
  },
  {
   "cell_type": "code",
   "execution_count": 27,
   "metadata": {},
   "outputs": [
    {
     "name": "stdout",
     "output_type": "stream",
     "text": [
      "item is: 1\n",
      "item datatype is: <class 'int'>\n",
      "item is: 6.78\n",
      "item datatype is: <class 'float'>\n",
      "item is: [34, 67.2]\n",
      "item datatype is: <class 'list'>\n",
      "item is: Javeria\n",
      "item datatype is: <class 'str'>\n"
     ]
    }
   ],
   "source": [
    "# lecture 5\n",
    "# Topic: List\n",
    "# name of list = [item1,item2,item3,.....,itemn]\n",
    "lst = [\"String\",1,6.78,[34,67.2],\"Javeria\"]\n",
    "\n",
    "# adding items in list using append\n",
    "lst.append(\"Kalob\")\n",
    "\n",
    "# removing a item by using its index \n",
    "# remember that in list or array index start from 0\n",
    "\n",
    "lst.pop(3)\n",
    "\n",
    "# removing specific item\n",
    "lst.remove(\"String\")\n",
    "for item in lst:\n",
    "    print(\"item is:\",item)\n",
    "    print(\"item datatype is:\",type(item))\n"
   ]
  },
  {
   "cell_type": "code",
   "execution_count": 36,
   "metadata": {},
   "outputs": [
    {
     "name": "stdout",
     "output_type": "stream",
     "text": [
      "Javeria\n",
      "\n",
      " Printing object Before adding a key value pair: \n",
      " {'name': 'Javeria', 'age': 21, 'occupation': 'Web Developer'}\n",
      "\n",
      " printing object after adding a key value pair: \n",
      " {'name': 'Javeria', 'age': 21, 'occupation': 'Web Developer', 'university': 'XU Exponentail'}\n",
      "\n",
      " adding the dictionary inside the dictionary: \n",
      " {'name': 'Javeria', 'age': 21, 'occupation': 'Web Developer', 'university': 'XU Exponentail', 'contact': {'phone': '000032948', 'email': 'j.baloch@gmail.com'}}\n",
      "\n",
      " printing after deleting the age: \n",
      " {'name': 'Javeria', 'occupation': 'Web Developer', 'university': 'XU Exponentail', 'contact': {'phone': '000032948', 'email': 'j.baloch@gmail.com'}}\n"
     ]
    }
   ],
   "source": [
    "# lecture 6\n",
    "# Topic: Dictionary\n",
    "\n",
    "# Dictionary is a object means it have key-value pairs, just like javascript objects\n",
    "person = {\n",
    "    # \"key\" : \"value\"\n",
    "    \"name\": \"Javeria\",\n",
    "    \"age\": 21,\n",
    "    \"occupation\": \"Web Developer\"\n",
    "}\n",
    "print(person['name'])\n",
    "\n",
    "# printing object Before adding a key value pair \n",
    "print(\"\\n\",\"Printing object Before adding a key value pair:\",\"\\n\",person)\n",
    "\n",
    "# add a key value pair in dictionary\n",
    "person['university'] = 'XU Exponentail'\n",
    "\n",
    "# printing object after adding a key value pair \n",
    "print(\"\\n\",\"printing object after adding a key value pair:\",\"\\n\",person)\n",
    "\n",
    "# you can have dictionaries inside dictionary\n",
    "contact = {\n",
    "   \"phone\": \"000032948\",\n",
    "   \"email\": \"j.baloch@gmail.com\"\n",
    "}\n",
    "\n",
    "# adding the dictionary inside the dictionary\n",
    "person['contact'] = contact\n",
    "print(\"\\n\",\"adding the dictionary inside the dictionary:\",\"\\n\",person)\n",
    "\n",
    "# deleting an key-value pair\n",
    "# use key to remove\n",
    "del person['age']\n",
    "print(\"\\n\",\"printing after deleting the age:\",\"\\n\",person)"
   ]
  },
  {
   "cell_type": "code",
   "execution_count": null,
   "metadata": {},
   "outputs": [],
   "source": [
    "# lecture 8\n",
    "# Topic: Tuples"
   ]
  },
  {
   "cell_type": "code",
   "execution_count": 6,
   "metadata": {},
   "outputs": [],
   "source": [
    "# lecture 7\n",
    "# Topic: conditional\n",
    "course = \"Python 101\"\n",
    "# if we don't have a code write 'pass' to skip the condition \n",
    "# without 'pass' keyword there can be an indentation error\n",
    "if course == \"Hi\":\n",
    "    pass\n",
    "elif course == \"bad\":\n",
    "    pass\n",
    "else:\n",
    "    pass"
   ]
  }
 ],
 "metadata": {
  "kernelspec": {
   "display_name": "Python 3.8.9 64-bit",
   "language": "python",
   "name": "python3"
  },
  "language_info": {
   "codemirror_mode": {
    "name": "ipython",
    "version": 3
   },
   "file_extension": ".py",
   "mimetype": "text/x-python",
   "name": "python",
   "nbconvert_exporter": "python",
   "pygments_lexer": "ipython3",
   "version": "3.8.9"
  },
  "orig_nbformat": 4,
  "vscode": {
   "interpreter": {
    "hash": "31f2aee4e71d21fbe5cf8b01ff0e069b9275f58929596ceb00d14d90e3e16cd6"
   }
  }
 },
 "nbformat": 4,
 "nbformat_minor": 2
}
