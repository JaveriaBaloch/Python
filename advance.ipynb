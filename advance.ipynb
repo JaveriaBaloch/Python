{
 "cells": [
  {
   "cell_type": "code",
   "execution_count": 23,
   "metadata": {},
   "outputs": [
    {
     "name": "stdout",
     "output_type": "stream",
     "text": [
      "Animal\n",
      "{'user': 'Ali'}\n",
      "[1, 2, 3, 4, 5]\n",
      "[1, 4, 9, 16, 25]\n"
     ]
    }
   ],
   "source": [
    "# lecture 1\n",
    "# Topic: Class\n",
    "\n",
    "class ThisIsAnAnimal:\n",
    "    # variable\n",
    "    sts =\"Animal\"\n",
    "\n",
    "    # object\n",
    "    names = {\n",
    "        \"user\" : \"Ali\"\n",
    "    }\n",
    "\n",
    "    # list\n",
    "    num = [1,2,3,4,5]\n",
    "\n",
    "    # function\n",
    "    def squares(num):\n",
    "        sq = []\n",
    "        for n in num:\n",
    "            sq.append(n**2)\n",
    "        return sq\n",
    "\n",
    "statement = ThisIsAnAnimal()\n",
    "print(statement.sts)\n",
    "print(statement.names)\n",
    "print(statement.num)\n",
    "s = ThisIsAnAnimal.squares(statement.num)\n",
    "print(s)"
   ]
  },
  {
   "cell_type": "code",
   "execution_count": 45,
   "metadata": {},
   "outputs": [
    {
     "data": {
      "text/plain": [
       "'Color is Pink and size is 18'"
      ]
     },
     "execution_count": 45,
     "metadata": {},
     "output_type": "execute_result"
    }
   ],
   "source": [
    "# lecture 2\n",
    "# Topic: Inherentance\n",
    "\n",
    "class ThisIsAnAnimal:\n",
    "    def size(self,height=2,width=9):\n",
    "        return height*width\n",
    "\n",
    "    def color(self, color=\"Pink\"):\n",
    "        return color\n",
    "    \n",
    "    def explain(self):\n",
    "        return \n",
    "\n",
    "class Tiger(ThisIsAnAnimal):\n",
    "    def show(self):\n",
    "        a = super().size()\n",
    "        b= super().color()\n",
    "        return f\"Color is {b} and size is {a}\"\n",
    "\n",
    "\n",
    "tiger = Tiger()\n",
    "tiger.show()"
   ]
  },
  {
   "cell_type": "code",
   "execution_count": null,
   "metadata": {},
   "outputs": [],
   "source": [
    "# lecture 3\n",
    "# Topic: Super Method\n",
    "\n",
    "class ThisIsAnAnimal:\n",
    "    def size(self,height,width):\n",
    "        return height*width\n",
    "\n",
    "    def color(self, color):\n",
    "        return color\n",
    "    \n",
    "    def explain(self):\n",
    "        return \n",
    "\n",
    "class Tiger(ThisIsAnAnimal):\n",
    "    def show(self):\n",
    "        a=super().size(3,5)\n",
    "        return f\"Color is  and size is {a}\"\n",
    "\n",
    "\n",
    "tiger = Tiger()\n",
    "tiger.show()"
   ]
  },
  {
   "cell_type": "code",
   "execution_count": 47,
   "metadata": {},
   "outputs": [
    {
     "data": {
      "text/plain": [
       "'Color is  and size is 132'"
      ]
     },
     "execution_count": 47,
     "metadata": {},
     "output_type": "execute_result"
    }
   ],
   "source": [
    "# lecture 4\n",
    "# Topic: Dunder Method\n",
    "\n",
    "class ThisIsAnAnimal:\n",
    "    height = 0\n",
    "    width = 0\n",
    "    color = \"\"\n",
    "\n",
    "    def __init__(self,height,width,color):\n",
    "       self.color = color\n",
    "       self.height = height\n",
    "       self.width = width\n",
    "    def size(self):\n",
    "        return self.height * self.width\n",
    "\n",
    "    def color(self):\n",
    "        return self.color\n",
    "    \n",
    "    def explain(self):\n",
    "        return \n",
    "\n",
    "class Tiger(ThisIsAnAnimal):\n",
    "    def show(self):\n",
    "        a=super().size()\n",
    "        return f\"Color is  and size is {a}\"\n",
    "\n",
    "\n",
    "tiger = Tiger(12,11,\"Yellow\")\n",
    "tiger.show()"
   ]
  },
  {
   "cell_type": "code",
   "execution_count": 60,
   "metadata": {},
   "outputs": [
    {
     "name": "stdout",
     "output_type": "stream",
     "text": [
      "<class 'ZeroDivisionError'>\n",
      "Not Valid\n"
     ]
    }
   ],
   "source": [
    "# lecture 5\n",
    "# Topic: Try Catch\n",
    "\n",
    "try:\n",
    "    total = 1/0\n",
    "    print(total)\n",
    "except Exception as e:\n",
    "    print(type(e))\n",
    "\n",
    "\n",
    "num =  input(\"Enter a number:\")\n",
    "\n",
    "try:\n",
    "    num = int(num)\n",
    "    print(num)\n",
    "except ValueError:\n",
    "    print(\"Not Valid\")\n",
    "except Exception as e:\n",
    "    print(type(e))"
   ]
  },
  {
   "cell_type": "code",
   "execution_count": 69,
   "metadata": {},
   "outputs": [
    {
     "name": "stdout",
     "output_type": "stream",
     "text": [
      "[0, 1, 4, 9, 16, 25, 36, 49, 64, 81, 100, 121, 144, 169]\n"
     ]
    }
   ],
   "source": [
    "# lecture 6\n",
    "# Topic: Generator\n",
    "\n",
    "def myfunc():\n",
    "    for n in range(14):\n",
    "        yield n*n\n",
    "\n",
    "arr = list(myfunc())\n",
    "print(arr)\n",
    "\n",
    "# \n",
    "# for big_num in myfunc():\n",
    "#     print(big_num)"
   ]
  }
 ],
 "metadata": {
  "kernelspec": {
   "display_name": "Python 3.10.7 64-bit",
   "language": "python",
   "name": "python3"
  },
  "language_info": {
   "codemirror_mode": {
    "name": "ipython",
    "version": 3
   },
   "file_extension": ".py",
   "mimetype": "text/x-python",
   "name": "python",
   "nbconvert_exporter": "python",
   "pygments_lexer": "ipython3",
   "version": "3.10.7"
  },
  "orig_nbformat": 4,
  "vscode": {
   "interpreter": {
    "hash": "aee8b7b246df8f9039afb4144a1f6fd8d2ca17a180786b69acc140d282b71a49"
   }
  }
 },
 "nbformat": 4,
 "nbformat_minor": 2
}
