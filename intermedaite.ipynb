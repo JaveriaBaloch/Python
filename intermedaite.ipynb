{
 "cells": [
  {
   "cell_type": "code",
   "execution_count": 4,
   "metadata": {},
   "outputs": [
    {
     "name": "stdout",
     "output_type": "stream",
     "text": [
      "Chicken is in list!\n"
     ]
    }
   ],
   "source": [
    "# lecture 1\n",
    "# Topic: In Operator\n",
    "\n",
    "\n",
    "# in works with lists, dictionaries and tuples\n",
    "# list example:\n",
    "arr = [\"Chicken\",\"Hen\",\"Parrot\"]\n",
    "\n",
    "if \"Chicken\" in arr:\n",
    "    print(\"Chicken is in list!\")\n",
    "\n",
    "# dictionary example:\n",
    "person = {\n",
    "    \"name\": \"Javeria\",\n",
    "    \"profession\": \"Student\",\n",
    "    \"university\": \"SZABIST\"\n",
    "}\n",
    "\n",
    "if \"name\" in person:\n",
    "    print(person[\"name\"])"
   ]
  },
  {
   "cell_type": "code",
   "execution_count": 9,
   "metadata": {},
   "outputs": [
    {
     "name": "stdout",
     "output_type": "stream",
     "text": [
      "You are Javeria\n",
      "rabbit is not in list!\n",
      "degree is not defined in object\n"
     ]
    }
   ],
   "source": [
    "# lecture 2\n",
    "# Topic: Not Operator\n",
    "\n",
    "\n",
    "# simple variable example:\n",
    "myName = \"Javeria\"\n",
    "if not myName == \"Javeria\" :\n",
    "    print(\"You are not Javeria\")\n",
    "else:\n",
    "    print(\"You are Javeria\")\n",
    "# list example:\n",
    "arr = [\"Chicken\",\"Hen\",\"Parrot\"]\n",
    "\n",
    "if not \"rabbit\" in arr:\n",
    "    print(\"rabbit is not in list!\")\n",
    "else:\n",
    "     print(\"rabbit is in list!\")\n",
    "# dictionary example:\n",
    "person = {\n",
    "    \"name\": \"Javeria\",\n",
    "    \"profession\": \"Student\",\n",
    "    \"university\": \"SZABIST\"\n",
    "}\n",
    "\n",
    "if not \"degree\" in person:\n",
    "    print(\"degree is not defined in object\")\n",
    "else:\n",
    "    print(person[\"degree\"])"
   ]
  },
  {
   "cell_type": "code",
   "execution_count": 14,
   "metadata": {},
   "outputs": [
    {
     "name": "stdout",
     "output_type": "stream",
     "text": [
      "# Hello Python World\n",
      "\n",
      "Content is:\n",
      " # Hello Python World\n",
      "\n"
     ]
    }
   ],
   "source": [
    "# lecture 3\n",
    "# Topic: Reading Files in Python\n",
    "\n",
    "\n",
    "# example code:\n",
    "# with open('filename','r') as file:\n",
    "#     print(file.read())\n",
    "\n",
    "\n",
    "# method 1:\n",
    "with open('readme.md','r') as file:\n",
    "    print(file.read())\n",
    "\n",
    "# method 2:\n",
    "with open('readme.md','r') as file:\n",
    "    content = file.read()\n",
    "\n",
    "print(\"Content is:\\n\",content)\n"
   ]
  },
  {
   "cell_type": "code",
   "execution_count": 20,
   "metadata": {},
   "outputs": [
    {
     "name": "stdout",
     "output_type": "stream",
     "text": [
      "12\n",
      "16\n",
      "16\n"
     ]
    }
   ],
   "source": [
    "# lecture 4\n",
    "# Topic: Write Files in Python\n",
    "\n",
    "# example code:\n",
    "# with open('filename','w') as file:\n",
    "#     file.write(\"Hello Python\")\n",
    "\n",
    "# method 1:\n",
    "with open('write.txt','w') as file:\n",
    "    file.write(\"Hello Python\")\n",
    "    file.write(\"\\nadding new line\")\n",
    "\n",
    "# method 2 adding new lines:\n",
    "with open('write.txt','a') as file:\n",
    "    file.write(\"\\nadding new line\")\n",
    "\n"
   ]
  },
  {
   "cell_type": "code",
   "execution_count": 28,
   "metadata": {},
   "outputs": [
    {
     "name": "stdout",
     "output_type": "stream",
     "text": [
      "File contains following emails:\n",
      "\t j@1256gmail.com\n",
      "\t kalob@123gmail.com\n",
      "\t wqer@gmail.com\n",
      "\t myemail@hotmail.com\n",
      "\t crish123@hjdh.de.com\n",
      "\t my134l@hotmail.com\n",
      "\n",
      "\n",
      "\n",
      "Hotmail Accounts are:\n",
      "\tmyemail@hotmail.com\n",
      "\tmy134l@hotmail.com\n",
      "\n",
      "\n",
      "\n",
      "Gmail Accounts are:\n",
      "\tj@1256gmail.com\n",
      "\tkalob@123gmail.com\n",
      "\twqer@gmail.com\n",
      "\n"
     ]
    }
   ],
   "source": [
    "# lecture 4\n",
    "# Topic: Reading multiple lines in Python\n",
    "\n",
    "# with open('filename','r') as file:\n",
    "#     print(file.readlines())\n",
    "\n",
    "\n",
    "# method one:\n",
    "with open('email.txt','r') as file:\n",
    "    emails = file.readlines()\n",
    "\n",
    "content = \"File contains following emails:\\n\"\n",
    "for email in emails:\n",
    "    content += f\"\\t {email}\"\n",
    "\n",
    "print(content)\n",
    "\n",
    "\n",
    "# finding Hotmail accounts\n",
    "hotmail_addresses = \"\\n\\nHotmail Accounts are:\\n\"\n",
    "\n",
    "for email in emails:\n",
    "    if \"hotmail\" in email:\n",
    "        hotmail_addresses += \"\\t\"+email\n",
    "\n",
    "print(hotmail_addresses)\n",
    "\n",
    "\n",
    "# finding Gmail accounts\n",
    "gmail_addresses = \"\\n\\nGmail Accounts are:\\n\"\n",
    "\n",
    "for email in emails:\n",
    "    if \"gmail\" in email:\n",
    "        gmail_addresses += \"\\t\"+email\n",
    "\n",
    "print(gmail_addresses)\n"
   ]
  },
  {
   "cell_type": "code",
   "execution_count": 30,
   "metadata": {},
   "outputs": [
    {
     "name": "stdout",
     "output_type": "stream",
     "text": [
      "['\\n', 'Name:\\tJaveria\\n', 'Email:\\tJ@gmail.com']\n"
     ]
    }
   ],
   "source": [
    "# lecture 5\n",
    "# Topic: Creating a file for user\n",
    "\n",
    "# taking user input\n",
    "filename = input(\"Enter the filename:\")\n",
    "username = input(\"Enter Your Name:\")\n",
    "email = input(\"Enter Your Email:\")\n",
    "\n",
    "# formatting the file in txt\n",
    "filename += \".txt\"\n",
    "name = \"\\nName:\\t\"+ username\n",
    "mail = \"\\nEmail:\\t\" + email\n",
    "# writing the file\n",
    "with open(filename,\"a\") as file:\n",
    "    file.write(name)\n",
    "    file.write(mail)\n",
    "\n",
    "#reading the file\n",
    "with open(filename,\"r\") as file:\n",
    "    info = file.readlines()\n",
    "\n",
    "print(info)"
   ]
  },
  {
   "cell_type": "code",
   "execution_count": 32,
   "metadata": {},
   "outputs": [
    {
     "name": "stdout",
     "output_type": "stream",
     "text": [
      "['\\n', 'Name:\\tJaveria\\n', 'Email:\\tJ@2gmai.com']\n"
     ]
    }
   ],
   "source": [
    "# lecture 6\n",
    "# Topic: Functions inside Functions\n",
    "\n",
    "\n",
    "# note: call the child function inside the parent function\n",
    "# writing file\n",
    "def creating_A_New_File():\n",
    "    filename = input(\"Enter the filename:\")\n",
    "    username = input(\"Enter Your Name:\")\n",
    "    email = input(\"Enter Your Email:\")\n",
    "    filename += \".txt\"\n",
    "    # formatting the file in txt\n",
    "    def formatting():\n",
    "        name = \"\\nName:\\t\"+ username\n",
    "        mail = \"\\nEmail:\\t\" + email\n",
    "        # writing the file\n",
    "        def writting():\n",
    "            with open(filename,\"a\") as file:\n",
    "                file.write(name)\n",
    "                file.write(mail)\n",
    "            #reading the file\n",
    "            def reading():\n",
    "                with open(filename,\"r\") as file:\n",
    "                    info = file.readlines()\n",
    "                print(info)\n",
    "            reading()\n",
    "        writting()\n",
    "    formatting()\n",
    "creating_A_New_File()\n",
    "\n"
   ]
  },
  {
   "cell_type": "code",
   "execution_count": 40,
   "metadata": {},
   "outputs": [],
   "source": [
    "# lecture 7\n",
    "# Topic: Making a API Request\n",
    "\n",
    "# Install following prequest before trying the code:\n",
    "# 1. python\n",
    "# 2. pip\n",
    "# 3. requests\n",
    "\n",
    "\n",
    "import requests\n",
    "import time\n",
    "req = requests.get(\"https://www.youtube.com/watch?v=0kfGYvvi9g8\")\n",
    "if req.status_code != 200:\n",
    "    # you can write any  alert action to get informed that url is unaccessible\n",
    "    pass\n",
    "time.sleep(3)\n"
   ]
  },
  {
   "cell_type": "code",
   "execution_count": 47,
   "metadata": {},
   "outputs": [
    {
     "name": "stdout",
     "output_type": "stream",
     "text": [
      "name:\tLuke Skywalker\n",
      "height:\t172\n",
      "mass:\t77\n",
      "hair_color:\tblond\n",
      "skin_color:\tfair\n",
      "eye_color:\tblue\n",
      "birth_year:\t19BBY\n",
      "gender:\tmale\n",
      "homeworld:\thttps://swapi.dev/api/planets/1/\n",
      "films:\t['https://swapi.dev/api/films/1/', 'https://swapi.dev/api/films/2/', 'https://swapi.dev/api/films/3/', 'https://swapi.dev/api/films/6/']\n",
      "species:\t[]\n",
      "vehicles:\t['https://swapi.dev/api/vehicles/14/', 'https://swapi.dev/api/vehicles/30/']\n",
      "starships:\t['https://swapi.dev/api/starships/12/', 'https://swapi.dev/api/starships/22/']\n",
      "created:\t2014-12-09T13:50:51.644000Z\n",
      "edited:\t2014-12-20T21:17:56.891000Z\n",
      "url:\thttps://swapi.dev/api/people/1/\n"
     ]
    }
   ],
   "source": [
    "# lecture 8\n",
    "# Topic: Working with JSON API\n",
    "\n",
    "# Install following prequest before trying the code:\n",
    "# 1. python\n",
    "# 2. pip\n",
    "# 3. requests\n",
    "\n",
    "import requests\n",
    "\n",
    "req = requests.get(\"https://swapi.dev/api/people/1\")\n",
    "person = req.json()\n",
    "\n",
    "for key,value in person.items():\n",
    "    show = f\"{key}:\\t{value}\"\n",
    "    print(show)"
   ]
  },
  {
   "cell_type": "code",
   "execution_count": 53,
   "metadata": {},
   "outputs": [
    {
     "name": "stdout",
     "output_type": "stream",
     "text": [
      "name:\tLuke Skywalker\n",
      "height:\t172\n",
      "mass:\t77\n",
      "hair_color:\tblond\n",
      "skin_color:\tfair\n",
      "eye_color:\tblue\n",
      "birth_year:\t19BBY\n",
      "gender:\tmale\n",
      "homeworld:\thttps://swapi.dev/api/planets/1/\n",
      "films:\t['https://swapi.dev/api/films/1/', 'https://swapi.dev/api/films/2/', 'https://swapi.dev/api/films/3/', 'https://swapi.dev/api/films/6/']\n",
      "species:\t[]\n",
      "vehicles:\t['https://swapi.dev/api/vehicles/14/', 'https://swapi.dev/api/vehicles/30/']\n",
      "starships:\t['https://swapi.dev/api/starships/12/', 'https://swapi.dev/api/starships/22/']\n",
      "created:\t2014-12-09T13:50:51.644000Z\n",
      "edited:\t2014-12-20T21:17:56.891000Z\n",
      "url:\thttps://swapi.dev/api/people/1/\n",
      "__________________________________________________________________\n",
      "_____________________After CHANGING THE NAME______________________\n",
      "__________________________________________________________________\n",
      "name:\tJaveria\n",
      "height:\t172\n",
      "mass:\t77\n",
      "hair_color:\tblond\n",
      "skin_color:\tfair\n",
      "eye_color:\tblue\n",
      "birth_year:\t19BBY\n",
      "gender:\tmale\n",
      "homeworld:\thttps://swapi.dev/api/planets/1/\n",
      "films:\t['https://swapi.dev/api/films/1/', 'https://swapi.dev/api/films/2/', 'https://swapi.dev/api/films/3/', 'https://swapi.dev/api/films/6/']\n",
      "species:\t[]\n",
      "vehicles:\t['https://swapi.dev/api/vehicles/14/', 'https://swapi.dev/api/vehicles/30/']\n",
      "starships:\t['https://swapi.dev/api/starships/12/', 'https://swapi.dev/api/starships/22/']\n",
      "created:\t2014-12-09T13:50:51.644000Z\n",
      "edited:\t2014-12-20T21:17:56.891000Z\n",
      "url:\thttps://swapi.dev/api/people/1/\n"
     ]
    }
   ],
   "source": [
    "# lecture 9\n",
    "# Topic: Working String response with JSON\n",
    "\n",
    "import json\n",
    "\n",
    "\n",
    "data = \"\"\"{\n",
    "\t\"name\": \"Luke Skywalker\",\n",
    "\t\"height\": \"172\",\n",
    "\t\"mass\": \"77\",\n",
    "\t\"hair_color\": \"blond\",\n",
    "\t\"skin_color\": \"fair\",\n",
    "\t\"eye_color\": \"blue\",\n",
    "\t\"birth_year\": \"19BBY\",\n",
    "\t\"gender\": \"male\",\n",
    "\t\"homeworld\": \"https://swapi.dev/api/planets/1/\",\n",
    "\t\"films\": [\n",
    "\t\t\"https://swapi.dev/api/films/1/\",\n",
    "\t\t\"https://swapi.dev/api/films/2/\",\n",
    "\t\t\"https://swapi.dev/api/films/3/\",\n",
    "\t\t\"https://swapi.dev/api/films/6/\"\n",
    "\t],\n",
    "\t\"species\": [],\n",
    "\t\"vehicles\": [\n",
    "\t\t\"https://swapi.dev/api/vehicles/14/\",\n",
    "\t\t\"https://swapi.dev/api/vehicles/30/\"\n",
    "\t],\n",
    "\t\"starships\": [\n",
    "\t\t\"https://swapi.dev/api/starships/12/\",\n",
    "\t\t\"https://swapi.dev/api/starships/22/\"\n",
    "\t],\n",
    "\t\"created\": \"2014-12-09T13:50:51.644000Z\",\n",
    "\t\"edited\": \"2014-12-20T21:17:56.891000Z\",\n",
    "\t\"url\": \"https://swapi.dev/api/people/1/\"\n",
    "}\"\"\"\n",
    "\n",
    "person = json.loads(data)\n",
    "for key,value in person.items():\n",
    "    show = f\"{key}:\\t{value}\"\n",
    "    print(show)\n",
    "\n",
    "# Changing some data\n",
    "\n",
    "person[\"name\"] = \"Javeria\"\n",
    "person_change = json.dumps(person)\n",
    "print(\"__________________________________________________________________\")\n",
    "print(\"_____________________After CHANGING THE NAME______________________\")\n",
    "print(\"__________________________________________________________________\")\n",
    "for key,value in person.items():\n",
    "    show = f\"{key}:\\t{value}\"\n",
    "    print(show)"
   ]
  },
  {
   "cell_type": "code",
   "execution_count": 61,
   "metadata": {},
   "outputs": [
    {
     "name": "stdout",
     "output_type": "stream",
     "text": [
      "All numbers are:\n",
      "\t1\n",
      "\t2\n",
      "\t3\n",
      "\t4\n",
      "\t5\n",
      "\t6\n",
      "\n",
      "total:\t21\n",
      "<class 'tuple'>\n"
     ]
    }
   ],
   "source": [
    "# lecture 9\n",
    "# Topic: Arg\n",
    "\n",
    "\n",
    "# *arg can take a much arguments as we want\n",
    "def thing(name,*args):\n",
    "    total = 0\n",
    "    print(\"All numbers are:\")\n",
    "    for num in args:\n",
    "        total += num\n",
    "        print(f\"\\t{num}\")\n",
    "    print(f\"\\ntotal:\\t{total}\")\n",
    "    print(type(args))\n",
    "\n",
    "thing(\"Javeria\",1,2,3,4,5,6)"
   ]
  },
  {
   "cell_type": "code",
   "execution_count": 68,
   "metadata": {},
   "outputs": [
    {
     "name": "stdout",
     "output_type": "stream",
     "text": [
      "{'age': 21, 'name': 'Javeria', 'university': 'XU'}\n",
      "Your age is 21\n"
     ]
    }
   ],
   "source": [
    "# lecture 10\n",
    "# Topic: KeyWord Arguments\n",
    "\n",
    "# output is as a object\n",
    "def thing(**kwarg):\n",
    "    print(kwarg)\n",
    "    if \"age\" in kwarg:\n",
    "        print(\"Your age is\",kwarg.get(\"age\"))\n",
    "thing(age=21,name=\"Javeria\",university=\"XU\")"
   ]
  },
  {
   "cell_type": "code",
   "execution_count": 71,
   "metadata": {},
   "outputs": [
    {
     "name": "stdout",
     "output_type": "stream",
     "text": [
      "(0, 'Zafar')\n",
      "(1, 'David')\n",
      "(2, 'Ammy')\n",
      "(3, 'Javeria')\n",
      "(4, 'Henry')\n",
      "\n",
      "________________________________________________________\n",
      "\n",
      "1 =======> Zafar\n",
      "2 =======> David\n",
      "3 =======> Ammy\n",
      "4 =======> Javeria\n",
      "5 =======> Henry\n"
     ]
    }
   ],
   "source": [
    "# lecture 10\n",
    "# Topic: Enumarations\n",
    "\n",
    "# enumaration gives us a tuple\n",
    "names = [\"Zafar\",\"David\",\"Ammy\",\"Javeria\",\"Henry\"]\n",
    "\n",
    "for name in enumerate(names):\n",
    "    print(name)\n",
    "\n",
    "print(\"\\n________________________________________________________\\n\")\n",
    "for index,name in enumerate(names):\n",
    "    print(index+1,\"=======>\",name)\n"
   ]
  },
  {
   "cell_type": "code",
   "execution_count": 75,
   "metadata": {},
   "outputs": [
    {
     "name": "stdout",
     "output_type": "stream",
     "text": [
      "[1, 4, 9, 16, 25]\n"
     ]
    }
   ],
   "source": [
    "# lecture 10\n",
    "# Topic: List Comparihension\n",
    "\n",
    "numbers = []\n",
    "for num in [1,2,3,4,5]:\n",
    "    numbers.append(num**2)\n",
    "print(numbers)"
   ]
  },
  {
   "cell_type": "code",
   "execution_count": 79,
   "metadata": {},
   "outputs": [
    {
     "name": "stdout",
     "output_type": "stream",
     "text": [
      "{'name': 'Zafar', 'Occupation': 'Coder'}\n",
      "{'name': 'Zafar', 'Occupation': 'Coder'}\n",
      "{'name': 'Zafar', 'Occupation': 'Coder'}\n"
     ]
    }
   ],
   "source": [
    "# lecture 10\n",
    "# Topic:Dictionary Comparihension\n",
    "\n",
    "names ={}\n",
    "d = [(\"name\",\"Zafar\"),(\"Occupation\",\"Coder\")]\n",
    "for key,value in  d:\n",
    "    names[key] = value\n",
    "print(names)\n",
    "\n",
    "newlist= {key:value for key,value in d}\n",
    "print(newlist)\n",
    "\n",
    "auto = dict(d)\n",
    "print(auto)"
   ]
  },
  {
   "cell_type": "code",
   "execution_count": 85,
   "metadata": {},
   "outputs": [
    {
     "name": "stdout",
     "output_type": "stream",
     "text": [
      "Luke Skywalker\n",
      "not found\n"
     ]
    }
   ],
   "source": [
    "# lecture 11\n",
    "# Topic:getting values from dictorany\n",
    "\n",
    "\n",
    "# Install following prequest before trying the code:\n",
    "# 1. python\n",
    "# 2. pip\n",
    "# 3. requests\n",
    "\n",
    "import requests\n",
    "\n",
    "req = requests.get(\"https://swapi.dev/api/people/1\")\n",
    "person = req.json()\n",
    "\n",
    "\n",
    "# syntax\n",
    "# person.get(\"variable\",\"defualt text here\")\n",
    "print(person.get(\"name\",\"not found\"))\n",
    "print(person.get(\"age\",\"not found\"))"
   ]
  },
  {
   "cell_type": "code",
   "execution_count": 87,
   "metadata": {},
   "outputs": [
    {
     "name": "stdout",
     "output_type": "stream",
     "text": [
      "No Such Pokemon exists!\n"
     ]
    }
   ],
   "source": [
    "# lecture 12\n",
    "# Topic: Final Project\n",
    "\n",
    "import requests\n",
    "pokemon = input(\"Enter the name of Pokemon:\")\n",
    "pokemon = pokemon.lower()\n",
    "\n",
    "url = \"https://pokeapi.co/api/v2/pokemon/\"+pokemon\n",
    "req = requests.get(url)\n",
    "if(req.status_code == 200):\n",
    "    p = req.json()\n",
    "    for key,value in p.items():\n",
    "        print(f\"{key}\\t:{value}\")\n",
    "else:\n",
    "    print(\"No Such Pokemon exists!\")\n",
    "\n"
   ]
  }
 ],
 "metadata": {
  "kernelspec": {
   "display_name": "Python 3.8.9 64-bit",
   "language": "python",
   "name": "python3"
  },
  "language_info": {
   "codemirror_mode": {
    "name": "ipython",
    "version": 3
   },
   "file_extension": ".py",
   "mimetype": "text/x-python",
   "name": "python",
   "nbconvert_exporter": "python",
   "pygments_lexer": "ipython3",
   "version": "3.8.9"
  },
  "orig_nbformat": 4,
  "vscode": {
   "interpreter": {
    "hash": "31f2aee4e71d21fbe5cf8b01ff0e069b9275f58929596ceb00d14d90e3e16cd6"
   }
  }
 },
 "nbformat": 4,
 "nbformat_minor": 2
}
